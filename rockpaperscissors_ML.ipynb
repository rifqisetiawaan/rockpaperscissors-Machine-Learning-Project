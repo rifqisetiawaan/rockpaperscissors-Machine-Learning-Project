{
  "nbformat": 4,
  "nbformat_minor": 0,
  "metadata": {
    "colab": {
      "name": "rockpaperscissors ML",
      "provenance": [],
      "collapsed_sections": [],
      "mount_file_id": "1BHVm-h-8Ss9-ZF6nFtM5Kg-OEaGjbAQZ",
      "authorship_tag": "ABX9TyNR8kOvpn4b6Pi8lrWvELj0",
      "include_colab_link": true
    },
    "kernelspec": {
      "name": "python3",
      "display_name": "Python 3"
    }
  },
  "cells": [
    {
      "cell_type": "markdown",
      "metadata": {
        "id": "view-in-github",
        "colab_type": "text"
      },
      "source": [
        "<a href=\"https://colab.research.google.com/github/rifqisetiawaan/rockpaperscissors-Machine-Learning-Project/blob/master/rockpaperscissors_ML.ipynb\" target=\"_parent\"><img src=\"https://colab.research.google.com/assets/colab-badge.svg\" alt=\"Open In Colab\"/></a>"
      ]
    },
    {
      "cell_type": "code",
      "metadata": {
        "id": "xBy8QegTzEhH",
        "colab_type": "code",
        "colab": {}
      },
      "source": [
        "import tensorflow as tf\n",
        "from tensorflow.keras.optimizers import RMSprop\n",
        "from tensorflow.keras.preprocessing.image import ImageDataGenerator"
      ],
      "execution_count": 0,
      "outputs": []
    },
    {
      "cell_type": "code",
      "metadata": {
        "id": "_cl44i2BzekE",
        "colab_type": "code",
        "colab": {}
      },
      "source": [
        "# Unduh data dan ekstrak\n",
        "!wget --no-check-certificate \\\n",
        "https://dicodingacademy.blob.core.windows.net/picodiploma/ml_pemula_academy/rockpaperscissors.zip \\\n",
        "  -o /content/rockpaperscissors.zip"
      ],
      "execution_count": 0,
      "outputs": []
    },
    {
      "cell_type": "code",
      "metadata": {
        "id": "-IpLviOe0FAh",
        "colab_type": "code",
        "colab": {}
      },
      "source": [
        "import zipfile, os\n",
        "local_zip = '/content/rockpaperscissors.zip.1'\n",
        "zip_ref = zipfile.ZipFile(local_zip, 'r')\n",
        "zip_ref.extractall('/content')\n",
        "zip_ref.close()"
      ],
      "execution_count": 0,
      "outputs": []
    },
    {
      "cell_type": "code",
      "metadata": {
        "id": "vRK5tNJaBG3p",
        "colab_type": "code",
        "colab": {}
      },
      "source": [
        "!pip install -q split-folders"
      ],
      "execution_count": 0,
      "outputs": []
    },
    {
      "cell_type": "code",
      "metadata": {
        "id": "Zk5jeD02ZcI2",
        "colab_type": "code",
        "outputId": "dfad20fe-9b6d-4ec3-c8fe-e7a6d56d97f9",
        "colab": {
          "base_uri": "https://localhost:8080/",
          "height": 34
        }
      },
      "source": [
        "import split_folders\n",
        "split_folders.ratio('/content/rockpaperscissors/rps-cv-images', output=\"/content/rockpaperscissors/data\", seed=1337, ratio=(.8, .2))"
      ],
      "execution_count": 0,
      "outputs": [
        {
          "output_type": "stream",
          "text": [
            "Copying files: 2188 files [00:00, 3143.84 files/s]\n"
          ],
          "name": "stderr"
        }
      ]
    },
    {
      "cell_type": "code",
      "metadata": {
        "id": "a0pphfSFAnuO",
        "colab_type": "code",
        "colab": {}
      },
      "source": [
        "import os\n",
        "\n",
        "base_dir = \"/content/rockpaperscissors/data\"\n",
        "train_dir = os.path.join(base_dir, \"train\")\n",
        "val_dir = os.path.join(base_dir, \"val\")"
      ],
      "execution_count": 0,
      "outputs": []
    },
    {
      "cell_type": "code",
      "metadata": {
        "id": "DoTWsBAfCI1x",
        "colab_type": "code",
        "outputId": "b4f1784e-3fd8-4139-db24-097d580b105a",
        "colab": {
          "base_uri": "https://localhost:8080/",
          "height": 34
        }
      },
      "source": [
        "os.listdir(\"/content/rockpaperscissors/data/train\")"
      ],
      "execution_count": 0,
      "outputs": [
        {
          "output_type": "execute_result",
          "data": {
            "text/plain": [
              "['rock', 'paper', 'scissors']"
            ]
          },
          "metadata": {
            "tags": []
          },
          "execution_count": 7
        }
      ]
    },
    {
      "cell_type": "code",
      "metadata": {
        "id": "_vg_VnGkCQ_0",
        "colab_type": "code",
        "colab": {}
      },
      "source": [
        "# direktori training untuk paper\n",
        "paper_train_dir = os.path.join(train_dir, \"paper\")\n",
        "# direktori training untuk rock\n",
        "rock_train_dir = os.path.join(train_dir, \"rock\")\n",
        "# direktori training untuk scissor\n",
        "scissor_train_dir = os.path.join(train_dir, \"scissor\")"
      ],
      "execution_count": 0,
      "outputs": []
    },
    {
      "cell_type": "code",
      "metadata": {
        "id": "T4UujElwDEfS",
        "colab_type": "code",
        "colab": {}
      },
      "source": [
        "# direktori validasi untuk paper\n",
        "paper_val_dir = os.path.join(val_dir, \"paper\")\n",
        "# direktori validasi untuk rock\n",
        "rock_val_dir = os.path.join(val_dir, \"rock\")\n",
        "# direktori validasi untuk scissor\n",
        "scissor_val_dir = os.path.join(val_dir, \"scissor\")"
      ],
      "execution_count": 0,
      "outputs": []
    },
    {
      "cell_type": "code",
      "metadata": {
        "id": "wFROxeUpD0FP",
        "colab_type": "code",
        "colab": {}
      },
      "source": [
        "training_data_generator = ImageDataGenerator(rescale = 1./255,\n",
        "                                             rotation_range = 20,\n",
        "                                             horizontal_flip = True,\n",
        "                                             shear_range = 0.2,\n",
        "                                             fill_mode = 'nearest')"
      ],
      "execution_count": 0,
      "outputs": []
    },
    {
      "cell_type": "code",
      "metadata": {
        "id": "Gkx_G0-uL7YL",
        "colab_type": "code",
        "colab": {}
      },
      "source": [
        "testing_data_generator = ImageDataGenerator(rescale = 1./255,\n",
        "                                            rotation_range = 20,\n",
        "                                            horizontal_flip = True,\n",
        "                                            shear_range = 0.2,\n",
        "                                            fill_mode = 'nearest')"
      ],
      "execution_count": 0,
      "outputs": []
    },
    {
      "cell_type": "code",
      "metadata": {
        "id": "rg3pv-fJMPRH",
        "colab_type": "code",
        "outputId": "14b1a7e4-236f-484f-e536-6b8f9fa9184d",
        "colab": {
          "base_uri": "https://localhost:8080/",
          "height": 34
        }
      },
      "source": [
        "training_gen = training_data_generator.flow_from_directory(\n",
        "    train_dir,\n",
        "    target_size = (150, 150),\n",
        "    batch_size = 4,\n",
        "    class_mode = 'categorical'\n",
        ")"
      ],
      "execution_count": 0,
      "outputs": [
        {
          "output_type": "stream",
          "text": [
            "Found 1749 images belonging to 3 classes.\n"
          ],
          "name": "stdout"
        }
      ]
    },
    {
      "cell_type": "code",
      "metadata": {
        "id": "aIvGxqpsNdLB",
        "colab_type": "code",
        "outputId": "a77e9ed0-cdd5-4791-801d-828ff024c637",
        "colab": {
          "base_uri": "https://localhost:8080/",
          "height": 34
        }
      },
      "source": [
        "validation_gen = testing_data_generator.flow_from_directory(\n",
        "    val_dir,\n",
        "    target_size = (150, 150),\n",
        "    batch_size = 4,\n",
        "    class_mode = 'categorical'\n",
        ")"
      ],
      "execution_count": 0,
      "outputs": [
        {
          "output_type": "stream",
          "text": [
            "Found 439 images belonging to 3 classes.\n"
          ],
          "name": "stdout"
        }
      ]
    },
    {
      "cell_type": "code",
      "metadata": {
        "id": "g8tHWt5bNxxT",
        "colab_type": "code",
        "colab": {}
      },
      "source": [
        "model = tf.keras.models.Sequential([\n",
        "                                   tf.keras.layers.Conv2D(32, (3, 3), activation = 'relu',\n",
        "                                                                      input_shape = (150, 150, 3)),\n",
        "                                   tf.keras.layers.MaxPooling2D(2, 2),\n",
        "                                   tf.keras.layers.Conv2D(64, (3, 3), activation = 'relu'),\n",
        "                                   tf.keras.layers.MaxPooling2D(2, 2),\n",
        "                                   tf.keras.layers.Conv2D(128, (3, 3), activation = 'relu'),\n",
        "                                   tf.keras.layers.MaxPooling2D(2, 2),\n",
        "                                   tf.keras.layers.Conv2D(128, (3, 3), activation = 'relu'),\n",
        "                                   tf.keras.layers.MaxPooling2D(2, 2),\n",
        "                                   tf.keras.layers.Conv2D(256, (3, 3), activation = 'relu'),\n",
        "                                   tf.keras.layers.MaxPooling2D(2, 2),\n",
        "                                   tf.keras.layers.Flatten(),\n",
        "                                   tf.keras.layers.Dense(512, activation = tf.nn.relu),\n",
        "                                   tf.keras.layers.Dense(512, activation = tf.nn.relu),\n",
        "                                   tf.keras.layers.Dense(1024, activation = tf.nn.relu),\n",
        "                                   tf.keras.layers.Dense(3, activation = tf.nn.softmax)\n",
        "])"
      ],
      "execution_count": 0,
      "outputs": []
    },
    {
      "cell_type": "code",
      "metadata": {
        "id": "zjJqZWa5VteD",
        "colab_type": "code",
        "colab": {}
      },
      "source": [
        "model.compile (loss = 'categorical_crossentropy', optimizer = tf.optimizers.RMSprop(), metrics = ['accuracy'])"
      ],
      "execution_count": 0,
      "outputs": []
    },
    {
      "cell_type": "code",
      "metadata": {
        "id": "6XBct1duW2yt",
        "colab_type": "code",
        "outputId": "4c8a6ba5-5e80-4cc7-d08f-353cd6cc87cc",
        "colab": {
          "base_uri": "https://localhost:8080/",
          "height": 1000
        }
      },
      "source": [
        "model.fit(training_gen, steps_per_epoch = 20,\n",
        "          epochs = 30,\n",
        "          validation_data = validation_gen,\n",
        "          validation_steps = 5,\n",
        "          verbose = 1)"
      ],
      "execution_count": 35,
      "outputs": [
        {
          "output_type": "stream",
          "text": [
            "Epoch 1/30\n",
            "20/20 [==============================] - 5s 229ms/step - loss: 0.3707 - accuracy: 0.9000 - val_loss: 2.6434 - val_accuracy: 0.6500\n",
            "Epoch 2/30\n",
            "20/20 [==============================] - 4s 220ms/step - loss: 4.9423 - accuracy: 0.8052 - val_loss: 0.0785 - val_accuracy: 0.9500\n",
            "Epoch 3/30\n",
            "20/20 [==============================] - 5s 230ms/step - loss: 0.1907 - accuracy: 0.9500 - val_loss: 0.0282 - val_accuracy: 1.0000\n",
            "Epoch 4/30\n",
            "20/20 [==============================] - 5s 229ms/step - loss: 0.0139 - accuracy: 1.0000 - val_loss: 0.9603 - val_accuracy: 0.9500\n",
            "Epoch 5/30\n",
            "20/20 [==============================] - 4s 223ms/step - loss: 0.1112 - accuracy: 0.9740 - val_loss: 3.0721 - val_accuracy: 0.8000\n",
            "Epoch 6/30\n",
            "20/20 [==============================] - 5s 229ms/step - loss: 0.3178 - accuracy: 0.9250 - val_loss: 0.1423 - val_accuracy: 0.9000\n",
            "Epoch 7/30\n",
            "20/20 [==============================] - 5s 228ms/step - loss: 1.7639 - accuracy: 0.9375 - val_loss: 0.3665 - val_accuracy: 0.9000\n",
            "Epoch 8/30\n",
            "20/20 [==============================] - 5s 230ms/step - loss: 0.3593 - accuracy: 0.8875 - val_loss: 0.0986 - val_accuracy: 0.9500\n",
            "Epoch 9/30\n",
            "20/20 [==============================] - 5s 227ms/step - loss: 0.0886 - accuracy: 0.9875 - val_loss: 0.0032 - val_accuracy: 1.0000\n",
            "Epoch 10/30\n",
            "20/20 [==============================] - 5s 229ms/step - loss: 0.6719 - accuracy: 0.8875 - val_loss: 0.6012 - val_accuracy: 0.9500\n",
            "Epoch 11/30\n",
            "20/20 [==============================] - 5s 228ms/step - loss: 0.4060 - accuracy: 0.9625 - val_loss: 0.1235 - val_accuracy: 0.9500\n",
            "Epoch 12/30\n",
            "20/20 [==============================] - 5s 230ms/step - loss: 0.3660 - accuracy: 0.9625 - val_loss: 0.0945 - val_accuracy: 0.9500\n",
            "Epoch 13/30\n",
            "20/20 [==============================] - 5s 228ms/step - loss: 1.4655 - accuracy: 0.8500 - val_loss: 0.1532 - val_accuracy: 0.9500\n",
            "Epoch 14/30\n",
            "20/20 [==============================] - 5s 234ms/step - loss: 0.6633 - accuracy: 0.9125 - val_loss: 0.3069 - val_accuracy: 0.9500\n",
            "Epoch 15/30\n",
            "20/20 [==============================] - 5s 228ms/step - loss: 0.1581 - accuracy: 0.9250 - val_loss: 1.1889 - val_accuracy: 0.9000\n",
            "Epoch 16/30\n",
            "20/20 [==============================] - 5s 229ms/step - loss: 1.9695 - accuracy: 0.8500 - val_loss: 0.0827 - val_accuracy: 0.9500\n",
            "Epoch 17/30\n",
            "20/20 [==============================] - 5s 229ms/step - loss: 0.0847 - accuracy: 0.9625 - val_loss: 0.2966 - val_accuracy: 0.9000\n",
            "Epoch 18/30\n",
            "20/20 [==============================] - 5s 227ms/step - loss: 0.4103 - accuracy: 0.9125 - val_loss: 0.3377 - val_accuracy: 0.8500\n",
            "Epoch 19/30\n",
            "20/20 [==============================] - 5s 228ms/step - loss: 2.3026 - accuracy: 0.8000 - val_loss: 0.7999 - val_accuracy: 0.5000\n",
            "Epoch 20/30\n",
            "20/20 [==============================] - 5s 230ms/step - loss: 0.4008 - accuracy: 0.8125 - val_loss: 0.0410 - val_accuracy: 1.0000\n",
            "Epoch 21/30\n",
            "20/20 [==============================] - 5s 246ms/step - loss: 0.6805 - accuracy: 0.8875 - val_loss: 4.1339 - val_accuracy: 0.8000\n",
            "Epoch 22/30\n",
            "20/20 [==============================] - 5s 229ms/step - loss: 1.0405 - accuracy: 0.7750 - val_loss: 2.3667 - val_accuracy: 0.6500\n",
            "Epoch 23/30\n",
            "20/20 [==============================] - 5s 230ms/step - loss: 0.4017 - accuracy: 0.8250 - val_loss: 0.2875 - val_accuracy: 0.8500\n",
            "Epoch 24/30\n",
            "20/20 [==============================] - 5s 228ms/step - loss: 0.0635 - accuracy: 0.9875 - val_loss: 1.8275 - val_accuracy: 0.9000\n",
            "Epoch 25/30\n",
            "20/20 [==============================] - 5s 230ms/step - loss: 0.6770 - accuracy: 0.9125 - val_loss: 0.2033 - val_accuracy: 0.9500\n",
            "Epoch 26/30\n",
            "20/20 [==============================] - 5s 231ms/step - loss: 1.4896 - accuracy: 0.5500 - val_loss: 2.8150 - val_accuracy: 0.5500\n",
            "Epoch 27/30\n",
            "20/20 [==============================] - 5s 230ms/step - loss: 1.0332 - accuracy: 0.5250 - val_loss: 0.5148 - val_accuracy: 0.8500\n",
            "Epoch 28/30\n",
            "20/20 [==============================] - 5s 229ms/step - loss: 0.4957 - accuracy: 0.8375 - val_loss: 0.0789 - val_accuracy: 1.0000\n",
            "Epoch 29/30\n",
            "20/20 [==============================] - 5s 230ms/step - loss: 0.8096 - accuracy: 0.9000 - val_loss: 0.9324 - val_accuracy: 0.8000\n",
            "Epoch 30/30\n",
            "20/20 [==============================] - 5s 228ms/step - loss: 0.1219 - accuracy: 0.9250 - val_loss: 0.0397 - val_accuracy: 1.0000\n"
          ],
          "name": "stdout"
        },
        {
          "output_type": "execute_result",
          "data": {
            "text/plain": [
              "<tensorflow.python.keras.callbacks.History at 0x7f77754a7358>"
            ]
          },
          "metadata": {
            "tags": []
          },
          "execution_count": 35
        }
      ]
    },
    {
      "cell_type": "code",
      "metadata": {
        "id": "7iqB8_RhjqHi",
        "colab_type": "code",
        "outputId": "c2d117cb-fe3e-4c30-d411-4436fc9f0f81",
        "colab": {
          "resources": {
            "http://localhost:8080/nbextensions/google.colab/files.js": {
              "data": "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",
              "ok": true,
              "headers": [
                [
                  "content-type",
                  "application/javascript"
                ]
              ],
              "status": 200,
              "status_text": ""
            }
          },
          "base_uri": "https://localhost:8080/",
          "height": 362
        }
      },
      "source": [
        "import numpy as np\n",
        "from google.colab import files\n",
        "from keras.preprocessing import image\n",
        "import matplotlib.pyplot as plt\n",
        "import matplotlib.image as mpimg\n",
        "%matplotlib inline\n",
        "\n",
        "uploaded = files.upload()\n",
        "for fn in uploaded.keys():\n",
        "  path = fn\n",
        "  img = image.load_img(path, target_size = (150, 150))\n",
        "  imgplot = plt.imshow(img)\n",
        "  x = image.img_to_array(img)\n",
        "  x = np.expand_dims(x, axis = 0)\n",
        "\n",
        "  images = np.vstack([x])\n",
        "  classes = model.predict(images, batch_size=10)\n",
        "  hasil = np.argmax(classes)\n",
        "\n",
        "  print(fn)\n",
        "  if hasil==0:\n",
        "    print(\"Paper\")\n",
        "  elif hasil==1:\n",
        "    print(\"Rock\")\n",
        "  else:\n",
        "    print(\"Scissors\")"
      ],
      "execution_count": 0,
      "outputs": [
        {
          "output_type": "display_data",
          "data": {
            "text/html": [
              "\n",
              "     <input type=\"file\" id=\"files-ba77981a-c93c-4e99-8e10-ac548ebd8521\" name=\"files[]\" multiple disabled />\n",
              "     <output id=\"result-ba77981a-c93c-4e99-8e10-ac548ebd8521\">\n",
              "      Upload widget is only available when the cell has been executed in the\n",
              "      current browser session. Please rerun this cell to enable.\n",
              "      </output>\n",
              "      <script src=\"/nbextensions/google.colab/files.js\"></script> "
            ],
            "text/plain": [
              "<IPython.core.display.HTML object>"
            ]
          },
          "metadata": {
            "tags": []
          }
        },
        {
          "output_type": "stream",
          "text": [
            "Saving IMG-20200602-WA0060.jpg to IMG-20200602-WA0060.jpg\n",
            "IMG-20200602-WA0060.jpg\n",
            "Scissors\n"
          ],
          "name": "stdout"
        },
        {
          "output_type": "display_data",
          "data": {
            "image/png": "[encoded data removed]",
            "text/plain": [
              "<Figure size 432x288 with 1 Axes>"
            ]
          },
          "metadata": {
            "tags": [],
            "needs_background": "light"
          }
        }
      ]
    },
    {
      "cell_type": "code",
      "metadata": {
        "id": "JxaTMIEVt-Nr",
        "colab_type": "code",
        "colab": {}
      },
      "source": [
        ""
      ],
      "execution_count": 0,
      "outputs": []
    }
  ]
}